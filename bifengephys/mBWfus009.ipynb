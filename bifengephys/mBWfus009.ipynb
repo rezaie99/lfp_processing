{
 "cells": [
  {
   "cell_type": "code",
   "execution_count": null,
   "outputs": [],
   "source": [
    "import sys\n",
    "sys.path.append('D:\\ephys')\n",
    "\n",
    "import numpy as np\n",
    "import matplotlib.pyplot as plt\n",
    "# %matplotlib notebook\n",
    "import glob\n",
    "import re # Regular expression operations\n",
    "import pandas as pd\n",
    "from scipy import signal\n",
    "import mne\n",
    "from tqdm import tqdm\n",
    "import os\n",
    "from os.path import exists\n",
    "import pickle\n",
    "import statsmodels.stats.api as sms\n",
    "\n",
    "import utils\n",
    "import ephys\n",
    "import plotting\n",
    "plt.rcParams[\"axes.labelsize\"]=12\n",
    "plt.rcParams[\"font.size\"]=12\n",
    "plt.rcParams[\"font.family\"] = \"Arial\""
   ],
   "metadata": {
    "collapsed": false,
    "pycharm": {
     "name": "#%%\n"
    }
   }
  },
  {
   "cell_type": "markdown",
   "source": [
    "# # Create geometry distribution of electrode pads"
   ],
   "metadata": {
    "collapsed": false
   }
  },
  {
   "cell_type": "code",
   "execution_count": null,
   "outputs": [],
   "source": [
    "print(ephys.pad_to_array()[0])"
   ],
   "metadata": {
    "collapsed": false,
    "pycharm": {
     "name": "#%%\n"
    }
   }
  },
  {
   "cell_type": "markdown",
   "source": [
    "# Load preprocessed data"
   ],
   "metadata": {
    "collapsed": false
   }
  },
  {
   "cell_type": "code",
   "execution_count": null,
   "outputs": [],
   "source": [
    "sessions = {\n",
    "    'arena_0219':     '2021-02-19_mBWfus009_arena_ephys', \n",
    "    'ezm_0219':       '2021-02-19_mBWfus009_EZM_ephys', \n",
    "    'oft_0219':       '2021-02-19_mBWfus009_OF_ephys',\n",
    "    \n",
    "    'arena_0226':     '2021-02-26_mBWfus009_arena_ephys', \n",
    "    'ezm_0226':       '2021-02-26_mBWfus009_EZM_ephys', \n",
    "    'oft_0226':       '2021-02-26_mBWfus009_OF_ephys',\n",
    "    \n",
    "    'arena_0305_bef': '2021-03-05_mBWfus009_before_arena_ephys',\n",
    "    'cage_0305':      '2021-03-05_mBWfus009_cage_arena_ephys',\n",
    "    'arena_0305_aft': '2021-03-05_mBWfus009_after_arena_ephys', \n",
    "    'ezm_0305':       '2021-03-05_mBWfus009_EZM_ephys', \n",
    "    'oft_0305':       '2021-03-05_mBWfus009_OF_ephys',\n",
    "    \n",
    "    'arena_0325':     '2021-03-25_mBWfus009_arena_ephys',\n",
    "    'epm_0325':       '2021-03-25_mBWfus009_EPM_ephys'\n",
    "           }"
   ],
   "metadata": {
    "collapsed": false,
    "pycharm": {
     "name": "#%%\n"
    }
   }
  },
  {
   "cell_type": "code",
   "execution_count": null,
   "outputs": [],
   "source": [
    "arena_0219   = ephys.load_data(sessions['arena_0219'])\n",
    "ezm_0219     = ephys.load_data(sessions['ezm_0219'])\n",
    "oft_0219     = ephys.load_data(sessions['oft_0219'])\n",
    "\n",
    "# traj_oft_0219 = ephys.load_traj(sessions['oft_0219'])\n",
    "# events_oft_0219 = ephys.load_events(sessions['oft_0219'])\n",
    "\n",
    "\n",
    "# arena_0226   = ephys.load_data(sessions['arena_0226'])\n",
    "# ezm_0226     = ephys.load_data(sessions['ezm_0226'])\n",
    "# oft_0226     = ephys.load_data(sessions['oft_0226'])\n",
    "\n",
    "# arena_0305_bef = ephys.load_data(sessions['arena_0305_bef'])\n",
    "# cage_0305      = ephys.load_data(sessions['cage_0305'])\n",
    "# arena_0305_aft = ephys.load_data(sessions['arena_0305_aft'])\n",
    "\n",
    "# ezm_0305       = ephys.load_data(sessions['ezm_0305'])\n",
    "# oft_0305       = ephys.load_data(sessions['oft_0305'])\n",
    "#\n",
    "# arena_0325      = ephys.load_data(sessions['arena_0325'])\n",
    "# epm_0325        = ephys.load_data(sessions['epm_0325'])\n"
   ],
   "metadata": {
    "collapsed": false,
    "pycharm": {
     "name": "#%%\n"
    }
   }
  },
  {
   "cell_type": "code",
   "execution_count": null,
   "outputs": [],
   "source": [
    "arena_0219.keys()"
   ],
   "metadata": {
    "collapsed": false,
    "pycharm": {
     "name": "#%%\n"
    }
   }
  },
  {
   "cell_type": "code",
   "execution_count": null,
   "outputs": [],
   "source": [
    "oft_0219_events =ephys.load_events(sessions['oft_0219'])\n",
    "oft_0219_traj = ephys.load_traj(sessions['oft_0219'])\n",
    "oft_0219_riostats = ephys.load_riostats(sessions['oft_0219'])"
   ],
   "metadata": {
    "collapsed": false,
    "pycharm": {
     "name": "#%%\n"
    }
   }
  },
  {
   "cell_type": "code",
   "execution_count": null,
   "outputs": [],
   "source": [
    "oft_0219_riostats"
   ],
   "metadata": {
    "collapsed": false,
    "pycharm": {
     "name": "#%%\n"
    }
   }
  },
  {
   "cell_type": "code",
   "execution_count": null,
   "outputs": [],
   "source": [
    "## extract 500hz data\n",
    "lfp_arena_0219 = ephys.get_lfp(arena_0219)\n",
    "lfp_ezm_0219 = ephys.get_lfp(ezm_0219)\n",
    "lfp_oft_0219 = ephys.get_lfp(oft_0219)\n",
    "\n",
    "# lfp_arena_0226 = get_lfp(arena_0226)\n",
    "# lfp_ezm_0226 = get_lfp(ezm_0226)\n",
    "# lfp_oft_0226 = get_lfp(oft_0226)\n",
    "\n",
    "# lfp_arena_0305_bef = get_lfp(arena_0305_bef)\n",
    "# lfp_arena_0305_aft = get_lfp(arena_0305_aft)\n",
    "# lfp_ezm_0305 = get_lfp(ezm_0305)\n",
    "# lfp_oft_0305 = get_lfp(oft_0305)\n",
    "\n",
    "## extract theta power\n",
    "theta_power_arena_0219 = ephys.get_power(arena_0219, 'theta')\n",
    "theta_power_ezm_0219 = ephys.get_power(ezm_0219, 'theta')\n",
    "theta_power_oft_0219 = ephys.get_power(oft_0219, 'theta')\n",
    "\n",
    "# theta_power_arena_0226 = get_theta_power(arena_0226)\n",
    "# theta_power_ezm_0226 = get_theta_power(ezm_0226)\n",
    "# theta_power_oft_0226 = get_theta_power(oft_0226)\n",
    "\n",
    "# theta_power_arena_0305_bef = get_theta_power(arena_0305_bef)\n",
    "# theta_power_arena_0305_aft = get_theta_power(arena_0305_aft)\n",
    "# theta_power_ezm_0305 = get_theta_power(ezm_0305)\n",
    "# theta_power_oft_0305 = get_theta_power(oft_0305)\n",
    "\n",
    "# lfp_arena_0325 = get_lfp(arena_0325)\n",
    "# lfp_epm_0325 = get_lfp(epm_0325)\n"
   ],
   "metadata": {
    "collapsed": false,
    "pycharm": {
     "name": "#%%\n"
    }
   }
  },
  {
   "cell_type": "code",
   "execution_count": null,
   "outputs": [],
   "source": [
    "% -- Coherence stuff"
   ],
   "metadata": {
    "collapsed": false,
    "pycharm": {
     "name": "#%%\n"
    }
   }
  },
  {
   "cell_type": "code",
   "execution_count": null,
   "outputs": [],
   "source": [
    "tpower_corr_matrix = np.zeros((len(lfp_mpfc),len(lfp_mpfc)))\n",
    "\n",
    "for x_id, x in tqdm(enumerate(lfp_mpfc)):\n",
    "    for y_id, y in enumerate(lfp_mpfc):\n",
    "        coherence_mpfc[x_id,y_id] = coherence(x=x,y=y, fs=500)[1][:20].mean()"
   ],
   "metadata": {
    "collapsed": false,
    "pycharm": {
     "name": "#%%\n"
    }
   }
  }
 ],
 "metadata": {
  "kernelspec": {
   "name": "pycharm-3585959f",
   "language": "python",
   "display_name": "PyCharm (bifengephys)"
  },
  "language_info": {
   "codemirror_mode": {
    "name": "ipython",
    "version": 3
   },
   "file_extension": ".py",
   "mimetype": "text/x-python",
   "name": "python",
   "nbconvert_exporter": "python",
   "pygments_lexer": "ipython3",
   "version": "3.7.10"
  }
 },
 "nbformat": 4,
 "nbformat_minor": 2
}