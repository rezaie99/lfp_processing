{
 "cells": [
  {
   "cell_type": "code",
   "execution_count": null,
   "outputs": [],
   "source": [
    "import sys\n",
    "import scipy.stats\n",
    "from scipy.signal import coherence\n",
    "from scipy.cluster.hierarchy import fcluster\n",
    "from sklearn import metrics\n",
    "from sklearn.linear_model import LinearRegression\n",
    "\n",
    "from trajectory_process import traj_process\n",
    "\n",
    "import numpy as np\n",
    "from scipy.cluster import hierarchy\n",
    "from sklearn import cluster\n",
    "import matplotlib.pyplot as plt\n",
    "import seaborn as sns\n",
    "# %matplotlib notebook\n",
    "import glob\n",
    "import re  # Regular expression operations\n",
    "import pandas as pd\n",
    "from scipy import signal\n",
    "import mne\n",
    "from tqdm import tqdm\n",
    "import os\n",
    "from os.path import exists\n",
    "import pickle\n",
    "import statsmodels.stats.api as sms\n",
    "\n",
    "sys.path.append('D:\\ephys')\n",
    "\n",
    "import utils\n",
    "import ephys\n",
    "import plotting\n",
    "\n",
    "plt.rcParams[\"axes.labelsize\"] = 12\n",
    "plt.rcParams[\"font.size\"] = 7\n",
    "plt.rcParams[\"font.family\"] = \"Arial\"\n",
    "\n",
    "mBWfus009 = {\n",
    "    'arena_0219': '2021-02-19_mBWfus009_arena_ephys',\n",
    "    'ezm_0219': '2021-02-19_mBWfus009_EZM_ephys',\n",
    "    'oft_0219': '2021-02-19_mBWfus009_OF_ephys',\n",
    "\n",
    "    'arena_0226': '2021-02-26_mBWfus009_arena_ephys',\n",
    "    'ezm_0226': '2021-02-26_mBWfus009_EZM_ephys',\n",
    "    'oft_0226': '2021-02-26_mBWfus009_OF_ephys',\n",
    "\n",
    "    'arena_0305_bef': '2021-03-05_mBWfus009_before_arena_ephys',\n",
    "    'cage_0305': '2021-03-05_mBWfus009_cage_arena_ephys',\n",
    "    'arena_0305_aft': '2021-03-05_mBWfus009_after_arena_ephys',\n",
    "    'ezm_0305': '2021-03-05_mBWfus009_EZM_ephys',\n",
    "    'oft_0305': '2021-03-05_mBWfus009_OF_ephys',\n",
    "\n",
    "    'arena_0325': '2021-03-25_mBWfus009_arena_ephys',\n",
    "    'epm_0325': '2021-03-25_mBWfus009_EPM_ephys'\n",
    "}\n",
    "\n",
    "mBWfus008 = {\n",
    "    'arena_0219': '2021-02-19_mBWfus008_arena_ephys',\n",
    "    'ezm_0219': '2021-02-19_mBWfus008_EZM_ephys',\n",
    "    'oft_0219': '2021-02-19_mBWfus008_OF_ephys',\n",
    "\n",
    "    'arena_0226': '2021-02-26_mBWfus008_arena_ephys',\n",
    "    'ezm_0226': '2021-02-26_mBWfus008_EZM_ephys',\n",
    "    'oft_0226': '2021-02-26_mBWfus008_OF_ephys',\n",
    "\n",
    "    'arena_0305_bef': '2021-03-05_mBWfus008_before_arena_ephys',\n",
    "    'cage_0305': '2021-03-05_mBWfus008_cage_arena_ephys',\n",
    "    'arena_0305_aft': '2021-03-05_mBWfus008_after_arena_ephys',\n",
    "    'ezm_0305': '2021-03-05_mBWfus008_EZM_ephys',\n",
    "    'oft_0305': '2021-03-05_mBWfus008_OF_ephys',\n",
    "}\n",
    "\n",
    "mBWfus010 = {\n",
    "    'arena_0219': '2021-02-19_mBWfus010_arena_ephys',\n",
    "    'ezm_0219': '2021-02-19_mBWfus010_EZM_ephys',\n",
    "    'oft_0219': '2021-02-19_mBWfus010_OF_ephys',\n",
    "\n",
    "    'arena_0301_aft': '2021-03-01_mBWfus010_arena_ephys_after',\n",
    "    'arena_0301_bef': '2021-03-01_mBWfus010_arena_ephys_before',\n",
    "    'cage_0301': '2021-03-01_mBWfus010_cage_ephys',\n",
    "    'oft_0301': '2021-03-01_mBWfus010_OF_ephys',\n",
    "    'ezm_0301': '2021-03-01_mBWfus010_EZM_ephys',\n",
    "\n",
    "    'arena_0307_bef': '2021-03-07_mBWfus010_after_arena_ephys',\n",
    "    'cage_0307': '2021-03-07_mBWfus010_cage_arena_ephys',\n",
    "    'arena_0307_aft': '2021-03-07_mBWfus010_after_arena_ephys',\n",
    "    'ezm_0307': '2021-03-07_mBWfus010_EZM_ephys',\n",
    "    'oft_0307': '2021-03-07_mBWfus010_OF_ephys',\n",
    "}\n",
    "\n",
    "mBWfus011 = {\n",
    "    'arena_0226': '2021-02-26_mBWfus011_arena_ephys',\n",
    "    'ezm_0226': '2021-02-26_mBWfus011_EZM_ephys',\n",
    "    'oft_0226': '2021-02-26_mBWfus011_OF_ephys',\n",
    "\n",
    "    'arena_0305_aft': '2021-03-05_mBWfus011_after_arena_ephys',\n",
    "    'cage_0305': '2021-03-05_mBWfus011_cage_arena_ephys',\n",
    "    'arena_0305_bef': '2021-03-05_mBWfus011_before_arena_ephys',\n",
    "    'oft_0305': '2021-03-05_mBWfus011_OF_ephys',\n",
    "    'ezm_0305': '2021-03-05_mBWfus011_EZM_ephys',\n",
    "\n",
    "    'arena_0313_bef': '2021-03-13_mBWfus011_before_arena_ephys',\n",
    "    'cage_0313': '2021-03-13_mBWfus011_cage_arena_ephys',\n",
    "    'arena_0313_aft': '2021-03-13_mBWfus011_after_arena_ephys',\n",
    "    'ezm_0313': '2021-03-13_mBWfus011_EZM_ephys',\n",
    "    'oft_0313': '2021-03-13_mBWfus011_OF_ephys',\n",
    "}\n",
    "\n",
    "mBWfus012 = {\n",
    "    'arena_0226': '2021-02-26_mBWfus012_arena_ephys',\n",
    "    'ezm_0226': '2021-02-26_mBWfus012_EZM_ephys',\n",
    "    'oft_0226': '2021-02-26_mBWfus012_OF_ephys',\n",
    "}"
   ],
   "metadata": {
    "collapsed": false,
    "pycharm": {
     "name": "#%%\n"
    }
   }
  },
  {
   "cell_type": "code",
   "execution_count": null,
   "outputs": [],
   "source": [
    "np.random.seed(42)\n",
    "animal = mBWfus009\n",
    "session = 'ezm_0219'\n",
    "behavior_trigger = 14.24"
   ],
   "metadata": {
    "collapsed": false,
    "pycharm": {
     "name": "#%%\n"
    }
   }
  },
  {
   "cell_type": "code",
   "execution_count": null,
   "outputs": [],
   "source": [
    "events = traj_process(animal[session], behavior='ezm', start_time=0, duration=15)\n",
    "# # events = pickle.load(open('D:\\\\ephys\\\\2021-02-19_mBWfus009_EZM_ephys\\ephys_processed\\\\2021-02-19_mBWfus009_EZM_ephys_results_manually_annotated.pickle',\n",
    "# #                           \"rb\"))\n",
    "f_behavior = 50\n",
    "f_ephys = 500\n",
    "behavior_window_duration = 900\n",
    "ephys_window_duration = 1000\n",
    "#\n",
    "# ### extract overall behavioral open/close frame indices\n",
    "open_idx = [i for i, el in enumerate(\n",
    "    events['rois_stats']['roi_at_each_frame'][\n",
    "    int(f_behavior * behavior_trigger):int(f_behavior * behavior_trigger) + f_behavior * behavior_window_duration])\n",
    "            if\n",
    "            el == 'open']\n",
    "close_idx = [i for i, el in enumerate(\n",
    "    events['rois_stats']['roi_at_each_frame'][\n",
    "    int(f_behavior * behavior_trigger):int(f_behavior * behavior_trigger) + f_behavior * behavior_window_duration])\n",
    "             if\n",
    "             el == 'closed']\n",
    "open_to_close_idx = np.array(events['transitions']['open_closed_exittime']) - int(f_behavior * behavior_trigger)\n",
    "prolonged_close_to_open_idx = np.array(events['transitions']['prolonged_open_closed_exittime']) - int(\n",
    "    f_behavior * behavior_trigger)\n",
    "prolonged_open_to_close_idx = np.array(events['transitions']['prolonged_closed_open_exittime']) - int(\n",
    "    f_behavior * behavior_trigger)"
   ],
   "metadata": {
    "collapsed": false,
    "pycharm": {
     "name": "#%%\n"
    }
   }
  },
  {
   "cell_type": "code",
   "execution_count": null,
   "outputs": [],
   "source": [
    "dataset = ephys.load_data(animal[session])"
   ],
   "metadata": {
    "collapsed": false,
    "pycharm": {
     "name": "#%%\n"
    }
   }
  },
  {
   "cell_type": "code",
   "execution_count": null,
   "outputs": [],
   "source": [
    "theta_OTC_mpfc = ephys.epoch_data(theta_mpfc, OTC_idx)\n",
    "theta_OTC_vhipp = ephys.epoch_data(theta_vhipp, OTC_idx)\n",
    "theta_prCTO_mpfc = ephys.epoch_data(theta_mpfc, prCTO_idx)\n",
    "theta_prCTO_vhipp = ephys.epoch_data(theta_vhipp, prCTO_idx)\n",
    "\n",
    "print(theta_OTC_mpfc.shape, theta_OTC_vhipp.shape, theta_prCTO_mpfc.shape, theta_prCTO_vhipp.shape)\n"
   ],
   "metadata": {
    "collapsed": false,
    "pycharm": {
     "name": "#%%\n"
    }
   }
  }
 ],
 "metadata": {
  "kernelspec": {
   "name": "pycharm-3585959f",
   "language": "python",
   "display_name": "PyCharm (bifengephys)"
  },
  "language_info": {
   "codemirror_mode": {
    "name": "ipython",
    "version": 3
   },
   "file_extension": ".py",
   "mimetype": "text/x-python",
   "name": "python",
   "nbconvert_exporter": "python",
   "pygments_lexer": "ipython3",
   "version": "3.7.10"
  }
 },
 "nbformat": 4,
 "nbformat_minor": 2
}