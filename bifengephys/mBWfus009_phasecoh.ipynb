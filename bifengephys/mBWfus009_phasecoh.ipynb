{
 "cells": [
  {
   "cell_type": "code",
   "execution_count": null,
   "metadata": {
    "pycharm": {
     "name": "#%%\n"
    }
   },
   "outputs": [],
   "source": [
    "import sys\n",
    "import scipy.stats\n",
    "from scipy.signal import coherence\n",
    "from scipy.cluster.hierarchy import fcluster\n",
    "from sklearn import metrics\n",
    "from sklearn.linear_model import LinearRegression\n",
    "\n",
    "from trajectory_process import traj_process\n",
    "\n",
    "import numpy as np\n",
    "from scipy.cluster import hierarchy\n",
    "from sklearn import cluster\n",
    "import matplotlib.pyplot as plt\n",
    "import seaborn as sns\n",
    "# %matplotlib notebook\n",
    "import glob\n",
    "import re  # Regular expression operations\n",
    "import pandas as pd\n",
    "from scipy import signal\n",
    "import mne\n",
    "from tqdm import tqdm\n",
    "import os\n",
    "from os.path import exists\n",
    "import pickle\n",
    "import statsmodels.stats.api as sms\n",
    "\n",
    "base_dir = '/home/fu/Data/ephys/'\n",
    "# base_dir = 'D:\\ephys\\'\n",
    "\n",
    "import utils\n",
    "import ephys\n",
    "import plotting\n",
    "\n",
    "plt.rcParams[\"axes.labelsize\"] = 12\n",
    "plt.rcParams[\"font.size\"] = 7\n",
    "# plt.rcParams[\"font.family\"] = \"Arial\"\n",
    "\n",
    "mBWfus009 = {\n",
    "    'arena_0219': '2021-02-19_mBWfus009_arena_ephys',\n",
    "    'ezm_0219': '2021-02-19_mBWfus009_EZM_ephys',\n",
    "    'oft_0219': '2021-02-19_mBWfus009_OF_ephys',\n",
    "\n",
    "    'arena_0226': '2021-02-26_mBWfus009_arena_ephys',\n",
    "    'ezm_0226': '2021-02-26_mBWfus009_EZM_ephys',\n",
    "    'oft_0226': '2021-02-26_mBWfus009_OF_ephys',\n",
    "\n",
    "    'arena_0305_bef': '2021-03-05_mBWfus009_before_arena_ephys',\n",
    "    'cage_0305': '2021-03-05_mBWfus009_cage_arena_ephys',\n",
    "    'arena_0305_aft': '2021-03-05_mBWfus009_after_arena_ephys',\n",
    "    'ezm_0305': '2021-03-05_mBWfus009_EZM_ephys',\n",
    "    'oft_0305': '2021-03-05_mBWfus009_OF_ephys',\n",
    "\n",
    "    'arena_0325': '2021-03-25_mBWfus009_arena_ephys',\n",
    "    'epm_0325': '2021-03-25_mBWfus009_EPM_ephys'\n",
    "}\n",
    "\n",
    "mBWfus008 = {\n",
    "    'arena_0219': '2021-02-19_mBWfus008_arena_ephys',\n",
    "    'ezm_0219': '2021-02-19_mBWfus008_EZM_ephys',\n",
    "    'oft_0219': '2021-02-19_mBWfus008_OF_ephys',\n",
    "\n",
    "    'arena_0226': '2021-02-26_mBWfus008_arena_ephys',\n",
    "    'ezm_0226': '2021-02-26_mBWfus008_EZM_ephys',\n",
    "    'oft_0226': '2021-02-26_mBWfus008_OF_ephys',\n",
    "\n",
    "    'arena_0305_bef': '2021-03-05_mBWfus008_before_arena_ephys',\n",
    "    'cage_0305': '2021-03-05_mBWfus008_cage_arena_ephys',\n",
    "    'arena_0305_aft': '2021-03-05_mBWfus008_after_arena_ephys',\n",
    "    'ezm_0305': '2021-03-05_mBWfus008_EZM_ephys',\n",
    "    'oft_0305': '2021-03-05_mBWfus008_OF_ephys',\n",
    "}\n",
    "\n",
    "mBWfus010 = {\n",
    "    'arena_0219': '2021-02-19_mBWfus010_arena_ephys',\n",
    "    'ezm_0219': '2021-02-19_mBWfus010_EZM_ephys',\n",
    "    'oft_0219': '2021-02-19_mBWfus010_OF_ephys',\n",
    "\n",
    "    'arena_0301_aft': '2021-03-01_mBWfus010_arena_ephys_after',\n",
    "    'arena_0301_bef': '2021-03-01_mBWfus010_arena_ephys_before',\n",
    "    'cage_0301': '2021-03-01_mBWfus010_cage_ephys',\n",
    "    'oft_0301': '2021-03-01_mBWfus010_OF_ephys',\n",
    "    'ezm_0301': '2021-03-01_mBWfus010_EZM_ephys',\n",
    "\n",
    "    'arena_0307_bef': '2021-03-07_mBWfus010_after_arena_ephys',\n",
    "    'cage_0307': '2021-03-07_mBWfus010_cage_arena_ephys',\n",
    "    'arena_0307_aft': '2021-03-07_mBWfus010_after_arena_ephys',\n",
    "    'ezm_0307': '2021-03-07_mBWfus010_EZM_ephys',\n",
    "    'oft_0307': '2021-03-07_mBWfus010_OF_ephys',\n",
    "}\n",
    "\n",
    "mBWfus011 = {\n",
    "    'arena_0226': '2021-02-26_mBWfus011_arena_ephys',\n",
    "    'ezm_0226': '2021-02-26_mBWfus011_EZM_ephys',\n",
    "    'oft_0226': '2021-02-26_mBWfus011_OF_ephys',\n",
    "\n",
    "    'arena_0305_aft': '2021-03-05_mBWfus011_after_arena_ephys',\n",
    "    'cage_0305': '2021-03-05_mBWfus011_cage_arena_ephys',\n",
    "    'arena_0305_bef': '2021-03-05_mBWfus011_before_arena_ephys',\n",
    "    'oft_0305': '2021-03-05_mBWfus011_OF_ephys',\n",
    "    'ezm_0305': '2021-03-05_mBWfus011_EZM_ephys',\n",
    "\n",
    "    'arena_0313_bef': '2021-03-13_mBWfus011_before_arena_ephys',\n",
    "    'cage_0313': '2021-03-13_mBWfus011_cage_arena_ephys',\n",
    "    'arena_0313_aft': '2021-03-13_mBWfus011_after_arena_ephys',\n",
    "    'ezm_0313': '2021-03-13_mBWfus011_EZM_ephys',\n",
    "    'oft_0313': '2021-03-13_mBWfus011_OF_ephys',\n",
    "}\n",
    "\n",
    "mBWfus012 = {\n",
    "    'arena_0226': '2021-02-26_mBWfus012_arena_ephys',\n",
    "    'ezm_0226': '2021-02-26_mBWfus012_EZM_ephys',\n",
    "    'oft_0226': '2021-02-26_mBWfus012_OF_ephys',\n",
    "}"
   ]
  },
  {
   "cell_type": "code",
   "execution_count": null,
   "metadata": {
    "pycharm": {
     "name": "#%%\n"
    }
   },
   "outputs": [],
   "source": [
    "np.random.seed(42)\n",
    "animal = mBWfus009\n",
    "session = 'ezm_0226'\n",
    "behavior_trigger = 51.0"
   ]
  },
  {
   "cell_type": "code",
   "execution_count": null,
   "metadata": {
    "pycharm": {
     "name": "#%%\n"
    },
    "scrolled": false
   },
   "outputs": [],
   "source": [
    "f_behavior = 50\n",
    "f_ephys = 500\n",
    "behavior_window_duration = 900\n",
    "ephys_window_duration = 1000\n",
    "events = traj_process(base_dir, animal[session], behavior='ezm', start_time=behavior_trigger, duration=behavior_window_duration)\n",
    "\n",
    "# ### extract overall behavioral open/close frame indices\n",
    "open_idx = [i for i, el in enumerate(\n",
    "    events['rois_stats']['roi_at_each_frame'][\n",
    "    int(f_behavior * behavior_trigger):int(f_behavior * behavior_trigger) + f_behavior * behavior_window_duration])\n",
    "            if\n",
    "            el == 'open']\n",
    "close_idx = [i for i, el in enumerate(\n",
    "    events['rois_stats']['roi_at_each_frame'][\n",
    "    int(f_behavior * behavior_trigger):int(f_behavior * behavior_trigger) + f_behavior * behavior_window_duration])\n",
    "             if\n",
    "             el == 'closed']\n",
    "open_to_close_idx = np.array(events['transitions']['open_closed_exittime']) - int(f_behavior * behavior_trigger)\n",
    "prolonged_close_to_open_idx = np.array(events['transitions']['prolonged_open_closed_exittime']) - int(\n",
    "    f_behavior * behavior_trigger)\n",
    "prolonged_open_to_close_idx = np.array(events['transitions']['prolonged_closed_open_exittime']) - int(\n",
    "    f_behavior * behavior_trigger)"
   ]
  },
  {
   "cell_type": "code",
   "execution_count": null,
   "metadata": {},
   "outputs": [],
   "source": [
    "dataset = ephys.load_data(base_dir, animal[session])\n",
    "\n",
    "power_mpfc = ephys.column_by_pad(ephys.get_power(dataset, 'mpfc', 'theta'))\n",
    "power_vhipp = ephys.column_by_pad(ephys.get_power(dataset, 'vhipp', 'theta'))\n",
    "\n",
    "mpfc_pads = np.array(power_mpfc.columns)\n",
    "vhipp_pads = np.array(power_vhipp.columns)\n",
    "\n",
    "totlen = len(mpfc_pads) + len(vhipp_pads)\n",
    "power_corrs = np.zeros((totlen, totlen))\n",
    "for i in range(totlen):\n",
    "    for j in range(totlen):\n",
    "        if i < len(mpfc_pads):\n",
    "            siga = power_mpfc[mpfc_pads[i]]\n",
    "        else:\n",
    "            siga = power_vhipp[vhipp_pads[i-len(mpfc_pads)]]\n",
    "        if j < len(mpfc_pads):\n",
    "            sigb = power_mpfc[mpfc_pads[j]]\n",
    "        else:\n",
    "            sigb = power_vhipp[vhipp_pads[j-len(mpfc_pads)]]\n",
    "        power_corrs[i][j] = pd.Series.corr(siga, sigb)\n",
    "\n",
    "fig, ax = plt.subplots(figsize=(14,14))\n",
    "im = ax.imshow(power_corrs, vmin=np.min(power_corrs), vmax=np.max(power_corrs))\n",
    "\n",
    "ax.set_yticks(np.arange(totlen))\n",
    "ax.set_xticks(np.arange(totlen))\n",
    "\n",
    "ax.set_yticklabels(np.concatenate((mpfc_pads, vhipp_pads)))\n",
    "ax.set_xticklabels(np.concatenate((mpfc_pads, vhipp_pads)))\n",
    "\n",
    "for tick in ax.xaxis.get_major_ticks():\n",
    "    tick.label.set_fontsize(10)\n",
    "    tick.label.set_rotation('vertical')\n",
    "\n",
    "for tick in ax.yaxis.get_major_ticks():\n",
    "    tick.label.set_fontsize(10)\n",
    "\n",
    "plt.setp(ax.get_xticklabels(), rotation=45, ha=\"right\",\n",
    "         rotation_mode=\"anchor\")\n",
    "\n",
    "fig.tight_layout()\n",
    "fig.colorbar(im, shrink=0.5)\n",
    "plt.title('Pearson\\'s Correlation between mPFC and vHPC signals', fontsize=16)\n",
    "plt.ylabel('mPFC')\n",
    "plt.xlabel('vHPC')\n",
    "plt.show()"
   ]
  },
  {
   "cell_type": "code",
   "execution_count": null,
   "metadata": {},
   "outputs": [],
   "source": [
    "# exclude = [10, 21, 23, 44] # 02-19-009-EZM\n",
    "exclude = [19, 21, 23, 39, 44] # 02-26-009-EZM"
   ]
  },
  {
   "cell_type": "code",
   "execution_count": null,
   "metadata": {
    "scrolled": true
   },
   "outputs": [],
   "source": [
    "plotting.plot_phase_coh_pairs(dataset, animal, session, savedir='./phase_coh_plots_009_0219EZM_open/', band='theta', exclude=exclude,\n",
    "                              srate=f_ephys, beh_srate=f_behavior, tstart=behavior_trigger, twin=behavior_window_duration, nbins=behavior_window_duration//2,\n",
    "                             select_idx=open_idx)"
   ]
  },
  {
   "cell_type": "code",
   "execution_count": null,
   "metadata": {
    "scrolled": true
   },
   "outputs": [],
   "source": [
    "plotting.plot_phase_coh_pairs(dataset, animal, session, savedir='./phase_coh_plots_009_0219EZM_closed/', band='theta', exclude=exclude,\n",
    "                              srate=f_ephys, beh_srate=f_behavior, tstart=behavior_trigger, twin=behavior_window_duration, nbins=behavior_window_duration//2,\n",
    "                             select_idx=close_idx)"
   ]
  },
  {
   "cell_type": "code",
   "execution_count": null,
   "metadata": {
    "scrolled": true
   },
   "outputs": [],
   "source": [
    "plotting.plot_phase_coh_pairs(dataset, animal, session, savedir='./phase_coh_plots_009_0219EZM_64bins_open/', band='theta', exclude=exclude,\n",
    "                              srate=f_ephys, beh_srate=f_behavior, tstart=behavior_trigger, twin=behavior_window_duration, nbins=64, select_idx=open_idx)"
   ]
  },
  {
   "cell_type": "code",
   "execution_count": null,
   "metadata": {},
   "outputs": [],
   "source": [
    "plotting.plot_phase_coh_pairs(dataset, animal, session, savedir='./phase_coh_plots_009_0219EZM_64bins_closed/', band='theta', exclude=exclude,\n",
    "                              srate=f_ephys, beh_srate=f_behavior, tstart=behavior_trigger, twin=behavior_window_duration, nbins=64, select_idx=close_idx)"
   ]
  },
  {
   "cell_type": "code",
   "execution_count": null,
   "metadata": {},
   "outputs": [],
   "source": [
    "plotting.plot_crosscorr_pairs(dataset, animal, session, savedir='./crosscorr_plots_009_0226EZM_open/', band='theta', exclude=exclude,\n",
    "                              srate=f_ephys, tstart=behavior_trigger, twin=behavior_window_duration, select_idx=open_idx)"
   ]
  },
  {
   "cell_type": "code",
   "execution_count": null,
   "metadata": {},
   "outputs": [],
   "source": [
    "plotting.plot_crosscorr_pairs(dataset, animal, session, savedir='./crosscorr_plots_009_0226EZM_closed/', band='theta', exclude=exclude,\n",
    "                              srate=f_ephys, tstart=behavior_trigger, twin=behavior_window_duration, select_idx=close_idx)"
   ]
  },
  {
   "cell_type": "code",
   "execution_count": null,
   "metadata": {},
   "outputs": [],
   "source": [
    "plotting.plot_crosscorr_pairs(dataset, animal, session, savedir='./crosscorr_plots_009_0226EZM_all/', band='theta', exclude=exclude,\n",
    "                              srate=f_ephys, tstart=behavior_trigger, twin=behavior_window_duration, select_idx=None)"
   ]
  },
  {
   "cell_type": "code",
   "execution_count": null,
   "metadata": {},
   "outputs": [],
   "source": []
  }
 ],
 "metadata": {
  "kernelspec": {
   "display_name": "Python 3",
   "language": "python",
   "name": "python3"
  },
  "language_info": {
   "codemirror_mode": {
    "name": "ipython",
    "version": 3
   },
   "file_extension": ".py",
   "mimetype": "text/x-python",
   "name": "python",
   "nbconvert_exporter": "python",
   "pygments_lexer": "ipython3",
   "version": "3.9.5"
  }
 },
 "nbformat": 4,
 "nbformat_minor": 2
}
