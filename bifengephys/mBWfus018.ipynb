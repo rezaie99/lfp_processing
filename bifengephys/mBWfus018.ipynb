{
 "cells": [
  {
   "cell_type": "code",
   "execution_count": 1,
   "metadata": {
    "pycharm": {
     "name": "#%%\n"
    }
   },
   "outputs": [],
   "source": [
    "import sys\n",
    "import scipy.stats\n",
    "from scipy.signal import coherence\n",
    "from scipy.cluster.hierarchy import fcluster\n",
    "from sklearn import metrics\n",
    "from sklearn.linear_model import LinearRegression\n",
    "\n",
    "from trajectory_process import traj_process\n",
    "\n",
    "import numpy as np\n",
    "from scipy.cluster import hierarchy\n",
    "from sklearn import cluster\n",
    "import matplotlib.pyplot as plt\n",
    "import seaborn as sns\n",
    "# %matplotlib notebook\n",
    "import glob\n",
    "import re  # Regular expression operations\n",
    "import pandas as pd\n",
    "from scipy import signal\n",
    "import mne\n",
    "from tqdm import tqdm\n",
    "import os\n",
    "from os.path import exists\n",
    "import pickle\n",
    "import statsmodels.stats.api as sms\n",
    "\n",
    "sys.path.append('D:\\ephys')\n",
    "\n",
    "import utils\n",
    "import ephys\n",
    "import plotting\n",
    "\n",
    "plt.rcParams[\"axes.labelsize\"] = 12\n",
    "plt.rcParams[\"font.size\"] = 7\n",
    "plt.rcParams[\"font.family\"] = \"Arial\"\n",
    "\n",
    "mBWfus009 = {\n",
    "    'arena_0219': '2021-02-19_mBWfus009_arena_ephys',\n",
    "    'ezm_0219': '2021-02-19_mBWfus009_EZM_ephys',\n",
    "    'oft_0219': '2021-02-19_mBWfus009_OF_ephys',\n",
    "\n",
    "    'arena_0226': '2021-02-26_mBWfus009_arena_ephys',\n",
    "    'ezm_0226': '2021-02-26_mBWfus009_EZM_ephys',\n",
    "    'oft_0226': '2021-02-26_mBWfus009_OF_ephys',\n",
    "\n",
    "    'arena_0305_bef': '2021-03-05_mBWfus009_before_arena_ephys',\n",
    "    'cage_0305': '2021-03-05_mBWfus009_cage_arena_ephys',\n",
    "    'arena_0305_aft': '2021-03-05_mBWfus009_after_arena_ephys',\n",
    "    'ezm_0305': '2021-03-05_mBWfus009_EZM_ephys',\n",
    "    'oft_0305': '2021-03-05_mBWfus009_OF_ephys',\n",
    "\n",
    "    'arena_0325': '2021-03-25_mBWfus009_arena_ephys',\n",
    "    'epm_0325': '2021-03-25_mBWfus009_EPM_ephys'\n",
    "}\n",
    "\n",
    "mBWfus008 = {\n",
    "    'arena_0219': '2021-02-19_mBWfus008_arena_ephys',\n",
    "    'ezm_0219': '2021-02-19_mBWfus008_EZM_ephys',\n",
    "    'oft_0219': '2021-02-19_mBWfus008_OF_ephys',\n",
    "\n",
    "    'arena_0226': '2021-02-26_mBWfus008_arena_ephys',\n",
    "    'ezm_0226': '2021-02-26_mBWfus008_EZM_ephys',\n",
    "    'oft_0226': '2021-02-26_mBWfus008_OF_ephys',\n",
    "\n",
    "    'arena_0305_bef': '2021-03-05_mBWfus008_before_arena_ephys',\n",
    "    'cage_0305': '2021-03-05_mBWfus008_cage_arena_ephys',\n",
    "    'arena_0305_aft': '2021-03-05_mBWfus008_after_arena_ephys',\n",
    "    'ezm_0305': '2021-03-05_mBWfus008_EZM_ephys',\n",
    "    'oft_0305': '2021-03-05_mBWfus008_OF_ephys',\n",
    "}\n",
    "\n",
    "mBWfus010 = {\n",
    "    'arena_0219': '2021-02-19_mBWfus010_arena_ephys',\n",
    "    'ezm_0219': '2021-02-19_mBWfus010_EZM_ephys',\n",
    "    'oft_0219': '2021-02-19_mBWfus010_OF_ephys',\n",
    "\n",
    "    'arena_0301_aft': '2021-03-01_mBWfus010_arena_ephys_after',\n",
    "    'arena_0301_bef': '2021-03-01_mBWfus010_arena_ephys_before',\n",
    "    'cage_0301': '2021-03-01_mBWfus010_cage_ephys',\n",
    "    'oft_0301': '2021-03-01_mBWfus010_OF_ephys',\n",
    "    'ezm_0301': '2021-03-01_mBWfus010_EZM_ephys',\n",
    "\n",
    "    'arena_0307_bef': '2021-03-07_mBWfus010_after_arena_ephys',\n",
    "    'cage_0307': '2021-03-07_mBWfus010_cage_arena_ephys',\n",
    "    'arena_0307_aft': '2021-03-07_mBWfus010_after_arena_ephys',\n",
    "    'ezm_0307': '2021-03-07_mBWfus010_EZM_ephys',\n",
    "    'oft_0307': '2021-03-07_mBWfus010_OF_ephys',\n",
    "}\n",
    "\n",
    "mBWfus011 = {\n",
    "    'arena_0226': '2021-02-26_mBWfus011_arena_ephys',\n",
    "    'ezm_0226': '2021-02-26_mBWfus011_EZM_ephys',\n",
    "    'oft_0226': '2021-02-26_mBWfus011_OF_ephys',\n",
    "\n",
    "    'arena_0305_aft': '2021-03-05_mBWfus011_after_arena_ephys',\n",
    "    'cage_0305': '2021-03-05_mBWfus011_cage_arena_ephys',\n",
    "    'arena_0305_bef': '2021-03-05_mBWfus011_before_arena_ephys',\n",
    "    'oft_0305': '2021-03-05_mBWfus011_OF_ephys',\n",
    "    'ezm_0305': '2021-03-05_mBWfus011_EZM_ephys',\n",
    "\n",
    "    'arena_0313_bef': '2021-03-13_mBWfus011_before_arena_ephys',\n",
    "    'cage_0313': '2021-03-13_mBWfus011_cage_arena_ephys',\n",
    "    'arena_0313_aft': '2021-03-13_mBWfus011_after_arena_ephys',\n",
    "    'ezm_0313': '2021-03-13_mBWfus011_EZM_ephys',\n",
    "    'oft_0313': '2021-03-13_mBWfus011_OF_ephys',\n",
    "}\n",
    "\n",
    "mBWfus012 = {\n",
    "    'arena_0226': '2021-02-26_mBWfus012_arena_ephys',\n",
    "    'ezm_0226': '2021-02-26_mBWfus012_EZM_ephys',\n",
    "    'oft_0226': '2021-02-26_mBWfus012_OF_ephys',\n",
    "}\n",
    "\n",
    "mBWfus018 = {\n",
    "    'epm_0511': '2021-05-11_mBWfus018_EPM_behv'\n",
    "}"
   ]
  },
  {
   "cell_type": "code",
   "execution_count": 2,
   "metadata": {
    "pycharm": {
     "name": "#%%\n"
    }
   },
   "outputs": [],
   "source": [
    "np.random.seed(42)\n",
    "animal = mBWfus018\n",
    "session = 'epm_0511'\n",
    "behavior_trigger = 23.0"
   ]
  },
  {
   "cell_type": "code",
   "execution_count": 3,
   "metadata": {
    "pycharm": {
     "name": "#%%\n"
    }
   },
   "outputs": [
    {
     "name": "stdout",
     "output_type": "stream",
     "text": [
      "D:\\ephys\\2021-05-11_mBWfus018_EPM_behv\\ephys_processed\\\n",
      "total number of frames: 50846\n",
      "frames to process: 45000\n",
      "edited 635 data points\n"
     ]
    },
    {
     "data": {
      "image/png": "[encoded data removed]",
      "text/plain": [
       "<Figure size 360x360 with 1 Axes>"
      ]
     },
     "metadata": {
      "needs_background": "light"
     },
     "output_type": "display_data"
    },
    {
     "name": "stdout",
     "output_type": "stream",
     "text": [
      "D:\\ephys\\2021-05-11_mBWfus018_EPM_behv\\ephys_processed\\EPM_points.pkl loaded\n",
      "Number of open-to-closed crossings detected: 18\n",
      "Number of closed-to-open crossings detected: 18\n",
      "Number of nosedips detected: 27\n"
     ]
    }
   ],
   "source": [
    "# before running the following code, first copy ‘EPM_points.pkl' to the corresponding ephys_processed directory\n",
    "\n",
    "events = traj_process(animal[session], behavior='epm', start_time=behavior_trigger, duration=15)\n",
    "# events = pickle.load(open('D:\\\\ephys\\\\2021-02-19_mBWfus009_EZM_ephys\\ephys_processed\\\\2021-02-19_mBWfus009_EZM_ephys_results_manually_annotated.pickle',\n",
    "#                           \"rb\"))\n",
    "f_behavior = 50\n",
    "f_ephys = 500\n",
    "behavior_window_duration = 900\n",
    "ephys_window_duration = 1000\n",
    "\n",
    "### extract overall behavioral open/close frame indices\n",
    "### selection based on label 'starts with' open/closed because open/closed regions split into two\n",
    "open_idx = [i for i, el in enumerate(\n",
    "    events['rois_stats']['roi_at_each_frame'][\n",
    "    int(f_behavior * behavior_trigger):int(f_behavior * behavior_trigger) + f_behavior * behavior_window_duration])\n",
    "            if\n",
    "            el.startswith('open')]\n",
    "close_idx = [i for i, el in enumerate(\n",
    "    events['rois_stats']['roi_at_each_frame'][\n",
    "    int(f_behavior * behavior_trigger):int(f_behavior * behavior_trigger) + f_behavior * behavior_window_duration])\n",
    "             if\n",
    "             el.startswith('closed')]\n"
   ]
  },
  {
   "cell_type": "code",
   "execution_count": 4,
   "metadata": {},
   "outputs": [],
   "source": [
    "### extract overall open-closed crossing events' frame indexes\n",
    "open_to_close_idx = np.array(events['transitions']['open_closed_entrytime']) - int(f_behavior * behavior_trigger)\n",
    "close_to_open_idx = np.array(events['transitions']['closed_open_entrytime']) - int(f_behavior * behavior_trigger)"
   ]
  },
  {
   "cell_type": "code",
   "execution_count": 5,
   "metadata": {},
   "outputs": [
    {
     "name": "stdout",
     "output_type": "stream",
     "text": [
      "29803    8342\n"
     ]
    }
   ],
   "source": [
    "print(len(close_idx), '  ', len(open_idx))"
   ]
  }
 ],
 "metadata": {
  "kernelspec": {
   "display_name": "Python 3",
   "language": "python",
   "name": "python3"
  },
  "language_info": {
   "codemirror_mode": {
    "name": "ipython",
    "version": 3
   },
   "file_extension": ".py",
   "mimetype": "text/x-python",
   "name": "python",
   "nbconvert_exporter": "python",
   "pygments_lexer": "ipython3",
   "version": "3.8.5"
  }
 },
 "nbformat": 4,
 "nbformat_minor": 2
}
